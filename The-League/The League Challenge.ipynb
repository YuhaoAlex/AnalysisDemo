{
 "cells": [
  {
   "cell_type": "markdown",
   "metadata": {},
   "source": [
    "### Q1. Based on your analysis of the data provided from the experiment, which of the two e-mails (A or B) would you recommend for a larger scale campaign"
   ]
  },
  {
   "cell_type": "markdown",
   "metadata": {},
   "source": [
    "1.As mentioned, samples are RAMDOMLY SELECTED, in this case, samples are assumed to be random, no need for matching. \n",
    "\n",
    "2.Compute the conversion rate regard to each group A/B"
   ]
  },
  {
   "cell_type": "code",
   "execution_count": 5,
   "metadata": {},
   "outputs": [],
   "source": [
    "import pandas\n",
    "import matplotlib.pyplot as plt"
   ]
  },
  {
   "cell_type": "code",
   "execution_count": 2,
   "metadata": {},
   "outputs": [
    {
     "data": {
      "text/html": [
       "<div>\n",
       "<style scoped>\n",
       "    .dataframe tbody tr th:only-of-type {\n",
       "        vertical-align: middle;\n",
       "    }\n",
       "\n",
       "    .dataframe tbody tr th {\n",
       "        vertical-align: top;\n",
       "    }\n",
       "\n",
       "    .dataframe thead th {\n",
       "        text-align: right;\n",
       "    }\n",
       "</style>\n",
       "<table border=\"1\" class=\"dataframe\">\n",
       "  <thead>\n",
       "    <tr style=\"text-align: right;\">\n",
       "      <th></th>\n",
       "      <th>user_id</th>\n",
       "      <th>email</th>\n",
       "      <th>converted</th>\n",
       "      <th>x1</th>\n",
       "      <th>x2</th>\n",
       "      <th>x3</th>\n",
       "      <th>x4</th>\n",
       "      <th>x5</th>\n",
       "      <th>x6</th>\n",
       "      <th>x7</th>\n",
       "      <th>x8</th>\n",
       "      <th>x9</th>\n",
       "      <th>x10</th>\n",
       "    </tr>\n",
       "  </thead>\n",
       "  <tbody>\n",
       "    <tr>\n",
       "      <th>0</th>\n",
       "      <td>123456</td>\n",
       "      <td>B</td>\n",
       "      <td>0</td>\n",
       "      <td>1.307944</td>\n",
       "      <td>-0.562787</td>\n",
       "      <td>1.039630</td>\n",
       "      <td>-2.908865</td>\n",
       "      <td>-2.115263</td>\n",
       "      <td>2.694800</td>\n",
       "      <td>-0.331587</td>\n",
       "      <td>0.815707</td>\n",
       "      <td>-0.324382</td>\n",
       "      <td>0.364599</td>\n",
       "    </tr>\n",
       "    <tr>\n",
       "      <th>1</th>\n",
       "      <td>123457</td>\n",
       "      <td>B</td>\n",
       "      <td>0</td>\n",
       "      <td>0.910389</td>\n",
       "      <td>-0.277683</td>\n",
       "      <td>-0.670094</td>\n",
       "      <td>-0.922280</td>\n",
       "      <td>-0.315424</td>\n",
       "      <td>-1.488813</td>\n",
       "      <td>-0.067852</td>\n",
       "      <td>-0.347947</td>\n",
       "      <td>1.367260</td>\n",
       "      <td>0.623631</td>\n",
       "    </tr>\n",
       "    <tr>\n",
       "      <th>2</th>\n",
       "      <td>123458</td>\n",
       "      <td>A</td>\n",
       "      <td>0</td>\n",
       "      <td>-1.340762</td>\n",
       "      <td>-0.918522</td>\n",
       "      <td>0.062053</td>\n",
       "      <td>1.049362</td>\n",
       "      <td>-1.540873</td>\n",
       "      <td>-0.372487</td>\n",
       "      <td>2.011240</td>\n",
       "      <td>1.394341</td>\n",
       "      <td>-1.092356</td>\n",
       "      <td>-0.256107</td>\n",
       "    </tr>\n",
       "    <tr>\n",
       "      <th>3</th>\n",
       "      <td>123459</td>\n",
       "      <td>B</td>\n",
       "      <td>0</td>\n",
       "      <td>-0.342582</td>\n",
       "      <td>0.969356</td>\n",
       "      <td>0.626722</td>\n",
       "      <td>0.138985</td>\n",
       "      <td>-1.008952</td>\n",
       "      <td>-0.867862</td>\n",
       "      <td>0.305326</td>\n",
       "      <td>0.616450</td>\n",
       "      <td>0.248013</td>\n",
       "      <td>-0.001253</td>\n",
       "    </tr>\n",
       "    <tr>\n",
       "      <th>4</th>\n",
       "      <td>123460</td>\n",
       "      <td>A</td>\n",
       "      <td>0</td>\n",
       "      <td>-0.926935</td>\n",
       "      <td>-1.722320</td>\n",
       "      <td>-2.290512</td>\n",
       "      <td>0.511226</td>\n",
       "      <td>-0.386015</td>\n",
       "      <td>-1.395568</td>\n",
       "      <td>-1.054296</td>\n",
       "      <td>0.239869</td>\n",
       "      <td>1.349215</td>\n",
       "      <td>-1.313154</td>\n",
       "    </tr>\n",
       "  </tbody>\n",
       "</table>\n",
       "</div>"
      ],
      "text/plain": [
       "   user_id email  converted        x1        x2        x3        x4        x5  \\\n",
       "0   123456     B          0  1.307944 -0.562787  1.039630 -2.908865 -2.115263   \n",
       "1   123457     B          0  0.910389 -0.277683 -0.670094 -0.922280 -0.315424   \n",
       "2   123458     A          0 -1.340762 -0.918522  0.062053  1.049362 -1.540873   \n",
       "3   123459     B          0 -0.342582  0.969356  0.626722  0.138985 -1.008952   \n",
       "4   123460     A          0 -0.926935 -1.722320 -2.290512  0.511226 -0.386015   \n",
       "\n",
       "         x6        x7        x8        x9       x10  \n",
       "0  2.694800 -0.331587  0.815707 -0.324382  0.364599  \n",
       "1 -1.488813 -0.067852 -0.347947  1.367260  0.623631  \n",
       "2 -0.372487  2.011240  1.394341 -1.092356 -0.256107  \n",
       "3 -0.867862  0.305326  0.616450  0.248013 -0.001253  \n",
       "4 -1.395568 -1.054296  0.239869  1.349215 -1.313154  "
      ]
     },
     "execution_count": 2,
     "metadata": {},
     "output_type": "execute_result"
    }
   ],
   "source": [
    "df = pandas.read_csv(\"/Users/zhangyuhao/Downloads/league_email_experiment.csv\")\n",
    "df.head()"
   ]
  },
  {
   "cell_type": "code",
   "execution_count": 6,
   "metadata": {},
   "outputs": [
    {
     "data": {
      "text/html": [
       "<div>\n",
       "<style scoped>\n",
       "    .dataframe tbody tr th:only-of-type {\n",
       "        vertical-align: middle;\n",
       "    }\n",
       "\n",
       "    .dataframe tbody tr th {\n",
       "        vertical-align: top;\n",
       "    }\n",
       "\n",
       "    .dataframe thead th {\n",
       "        text-align: right;\n",
       "    }\n",
       "</style>\n",
       "<table border=\"1\" class=\"dataframe\">\n",
       "  <thead>\n",
       "    <tr style=\"text-align: right;\">\n",
       "      <th></th>\n",
       "      <th>email</th>\n",
       "      <th>converted</th>\n",
       "    </tr>\n",
       "  </thead>\n",
       "  <tbody>\n",
       "    <tr>\n",
       "      <th>0</th>\n",
       "      <td>B</td>\n",
       "      <td>0</td>\n",
       "    </tr>\n",
       "    <tr>\n",
       "      <th>1</th>\n",
       "      <td>B</td>\n",
       "      <td>0</td>\n",
       "    </tr>\n",
       "    <tr>\n",
       "      <th>2</th>\n",
       "      <td>A</td>\n",
       "      <td>0</td>\n",
       "    </tr>\n",
       "    <tr>\n",
       "      <th>3</th>\n",
       "      <td>B</td>\n",
       "      <td>0</td>\n",
       "    </tr>\n",
       "    <tr>\n",
       "      <th>4</th>\n",
       "      <td>A</td>\n",
       "      <td>0</td>\n",
       "    </tr>\n",
       "  </tbody>\n",
       "</table>\n",
       "</div>"
      ],
      "text/plain": [
       "  email  converted\n",
       "0     B          0\n",
       "1     B          0\n",
       "2     A          0\n",
       "3     B          0\n",
       "4     A          0"
      ]
     },
     "execution_count": 6,
     "metadata": {},
     "output_type": "execute_result"
    }
   ],
   "source": [
    "conversion = df.iloc[:,1:3]\n",
    "conversion.head()"
   ]
  },
  {
   "cell_type": "code",
   "execution_count": 7,
   "metadata": {},
   "outputs": [
    {
     "data": {
      "text/plain": [
       "[37, 62]"
      ]
     },
     "execution_count": 7,
     "metadata": {},
     "output_type": "execute_result"
    }
   ],
   "source": [
    "converted_val = conversion[conversion['converted']==1].groupby('email').count()\n",
    "converted_val = converted_val['converted'].values.tolist()\n",
    "converted_val"
   ]
  },
  {
   "cell_type": "code",
   "execution_count": 8,
   "metadata": {},
   "outputs": [
    {
     "data": {
      "text/plain": [
       "[406, 594]"
      ]
     },
     "execution_count": 8,
     "metadata": {},
     "output_type": "execute_result"
    }
   ],
   "source": [
    "total_num = conversion.groupby('email').count()\n",
    "total_num = total_num['converted'].values.tolist()\n",
    "total_num"
   ]
  },
  {
   "cell_type": "code",
   "execution_count": 9,
   "metadata": {},
   "outputs": [
    {
     "data": {
      "text/html": [
       "<div>\n",
       "<style scoped>\n",
       "    .dataframe tbody tr th:only-of-type {\n",
       "        vertical-align: middle;\n",
       "    }\n",
       "\n",
       "    .dataframe tbody tr th {\n",
       "        vertical-align: top;\n",
       "    }\n",
       "\n",
       "    .dataframe thead th {\n",
       "        text-align: right;\n",
       "    }\n",
       "</style>\n",
       "<table border=\"1\" class=\"dataframe\">\n",
       "  <thead>\n",
       "    <tr style=\"text-align: right;\">\n",
       "      <th></th>\n",
       "      <th>converted</th>\n",
       "    </tr>\n",
       "    <tr>\n",
       "      <th>email</th>\n",
       "      <th></th>\n",
       "    </tr>\n",
       "  </thead>\n",
       "  <tbody>\n",
       "    <tr>\n",
       "      <th>A</th>\n",
       "      <td>37</td>\n",
       "    </tr>\n",
       "    <tr>\n",
       "      <th>B</th>\n",
       "      <td>62</td>\n",
       "    </tr>\n",
       "  </tbody>\n",
       "</table>\n",
       "</div>"
      ],
      "text/plain": [
       "       converted\n",
       "email           \n",
       "A             37\n",
       "B             62"
      ]
     },
     "execution_count": 9,
     "metadata": {},
     "output_type": "execute_result"
    }
   ],
   "source": [
    "conversion[conversion['converted']==1].groupby('email').count()"
   ]
  },
  {
   "cell_type": "code",
   "execution_count": 10,
   "metadata": {},
   "outputs": [
    {
     "data": {
      "text/plain": [
       "[0.09113300492610837, 0.10437710437710437]"
      ]
     },
     "execution_count": 10,
     "metadata": {},
     "output_type": "execute_result"
    }
   ],
   "source": [
    "conversion_rate = [converted_val[i]/total_num[i] for i in range(len(total_num))]\n",
    "conversion_rate"
   ]
  },
  {
   "cell_type": "code",
   "execution_count": 11,
   "metadata": {},
   "outputs": [],
   "source": [
    "emails = ['A','B']"
   ]
  },
  {
   "cell_type": "code",
   "execution_count": 12,
   "metadata": {},
   "outputs": [
    {
     "data": {
      "image/png": "[encoded data removed]",
      "text/plain": [
       "<Figure size 288x288 with 1 Axes>"
      ]
     },
     "metadata": {
      "needs_background": "light"
     },
     "output_type": "display_data"
    }
   ],
   "source": [
    "# draw graphs\n",
    "\n",
    "plt.rcParams['figure.figsize'] = (4.0, 4.0)\n",
    "plt.bar(emails, conversion_rate, width = 0.3)\n",
    "\n",
    "for a,b in zip(emails,conversion_rate):  \n",
    " plt.text(a, b+0.005, '%.4f' %b, ha='center', va= 'bottom',fontsize=11)\n",
    "\n",
    "plt.ylim(0,0.15)\n",
    "plt.show()"
   ]
  },
  {
   "cell_type": "markdown",
   "metadata": {},
   "source": [
    "### Answer\n",
    "\n",
    "The conversion rate of B(0.1044) is higher than A(0.0911), B is the better choice"
   ]
  },
  {
   "cell_type": "markdown",
   "metadata": {},
   "source": [
    "### Q2: In addition to the above, we’re also interested in predicting if a user will subscribe in the future based on their characteristics. Which of the ten normalized variables (X1, X2, X3...X10) are most predictive (you’re not necessarily limited to just one) of user conversion? "
   ]
  },
  {
   "cell_type": "markdown",
   "metadata": {},
   "source": [
    "1. there are "
   ]
  },
  {
   "cell_type": "code",
   "execution_count": 13,
   "metadata": {},
   "outputs": [
    {
     "data": {
      "text/html": [
       "<div>\n",
       "<style scoped>\n",
       "    .dataframe tbody tr th:only-of-type {\n",
       "        vertical-align: middle;\n",
       "    }\n",
       "\n",
       "    .dataframe tbody tr th {\n",
       "        vertical-align: top;\n",
       "    }\n",
       "\n",
       "    .dataframe thead th {\n",
       "        text-align: right;\n",
       "    }\n",
       "</style>\n",
       "<table border=\"1\" class=\"dataframe\">\n",
       "  <thead>\n",
       "    <tr style=\"text-align: right;\">\n",
       "      <th></th>\n",
       "      <th>x1</th>\n",
       "      <th>x2</th>\n",
       "      <th>x3</th>\n",
       "      <th>x4</th>\n",
       "      <th>x5</th>\n",
       "      <th>x6</th>\n",
       "      <th>x7</th>\n",
       "      <th>x8</th>\n",
       "      <th>x9</th>\n",
       "      <th>x10</th>\n",
       "    </tr>\n",
       "  </thead>\n",
       "  <tbody>\n",
       "    <tr>\n",
       "      <th>0</th>\n",
       "      <td>1.307944</td>\n",
       "      <td>-0.562787</td>\n",
       "      <td>1.039630</td>\n",
       "      <td>-2.908865</td>\n",
       "      <td>-2.115263</td>\n",
       "      <td>2.694800</td>\n",
       "      <td>-0.331587</td>\n",
       "      <td>0.815707</td>\n",
       "      <td>-0.324382</td>\n",
       "      <td>0.364599</td>\n",
       "    </tr>\n",
       "    <tr>\n",
       "      <th>1</th>\n",
       "      <td>0.910389</td>\n",
       "      <td>-0.277683</td>\n",
       "      <td>-0.670094</td>\n",
       "      <td>-0.922280</td>\n",
       "      <td>-0.315424</td>\n",
       "      <td>-1.488813</td>\n",
       "      <td>-0.067852</td>\n",
       "      <td>-0.347947</td>\n",
       "      <td>1.367260</td>\n",
       "      <td>0.623631</td>\n",
       "    </tr>\n",
       "    <tr>\n",
       "      <th>2</th>\n",
       "      <td>-1.340762</td>\n",
       "      <td>-0.918522</td>\n",
       "      <td>0.062053</td>\n",
       "      <td>1.049362</td>\n",
       "      <td>-1.540873</td>\n",
       "      <td>-0.372487</td>\n",
       "      <td>2.011240</td>\n",
       "      <td>1.394341</td>\n",
       "      <td>-1.092356</td>\n",
       "      <td>-0.256107</td>\n",
       "    </tr>\n",
       "    <tr>\n",
       "      <th>3</th>\n",
       "      <td>-0.342582</td>\n",
       "      <td>0.969356</td>\n",
       "      <td>0.626722</td>\n",
       "      <td>0.138985</td>\n",
       "      <td>-1.008952</td>\n",
       "      <td>-0.867862</td>\n",
       "      <td>0.305326</td>\n",
       "      <td>0.616450</td>\n",
       "      <td>0.248013</td>\n",
       "      <td>-0.001253</td>\n",
       "    </tr>\n",
       "    <tr>\n",
       "      <th>4</th>\n",
       "      <td>-0.926935</td>\n",
       "      <td>-1.722320</td>\n",
       "      <td>-2.290512</td>\n",
       "      <td>0.511226</td>\n",
       "      <td>-0.386015</td>\n",
       "      <td>-1.395568</td>\n",
       "      <td>-1.054296</td>\n",
       "      <td>0.239869</td>\n",
       "      <td>1.349215</td>\n",
       "      <td>-1.313154</td>\n",
       "    </tr>\n",
       "  </tbody>\n",
       "</table>\n",
       "</div>"
      ],
      "text/plain": [
       "         x1        x2        x3        x4        x5        x6        x7  \\\n",
       "0  1.307944 -0.562787  1.039630 -2.908865 -2.115263  2.694800 -0.331587   \n",
       "1  0.910389 -0.277683 -0.670094 -0.922280 -0.315424 -1.488813 -0.067852   \n",
       "2 -1.340762 -0.918522  0.062053  1.049362 -1.540873 -0.372487  2.011240   \n",
       "3 -0.342582  0.969356  0.626722  0.138985 -1.008952 -0.867862  0.305326   \n",
       "4 -0.926935 -1.722320 -2.290512  0.511226 -0.386015 -1.395568 -1.054296   \n",
       "\n",
       "         x8        x9       x10  \n",
       "0  0.815707 -0.324382  0.364599  \n",
       "1 -0.347947  1.367260  0.623631  \n",
       "2  1.394341 -1.092356 -0.256107  \n",
       "3  0.616450  0.248013 -0.001253  \n",
       "4  0.239869  1.349215 -1.313154  "
      ]
     },
     "execution_count": 13,
     "metadata": {},
     "output_type": "execute_result"
    }
   ],
   "source": [
    "data = df.iloc[:, 3:13]\n",
    "data.head()"
   ]
  },
  {
   "cell_type": "code",
   "execution_count": 14,
   "metadata": {},
   "outputs": [
    {
     "data": {
      "text/html": [
       "<div>\n",
       "<style scoped>\n",
       "    .dataframe tbody tr th:only-of-type {\n",
       "        vertical-align: middle;\n",
       "    }\n",
       "\n",
       "    .dataframe tbody tr th {\n",
       "        vertical-align: top;\n",
       "    }\n",
       "\n",
       "    .dataframe thead th {\n",
       "        text-align: right;\n",
       "    }\n",
       "</style>\n",
       "<table border=\"1\" class=\"dataframe\">\n",
       "  <thead>\n",
       "    <tr style=\"text-align: right;\">\n",
       "      <th></th>\n",
       "      <th>converted</th>\n",
       "      <th>x1</th>\n",
       "      <th>x2</th>\n",
       "      <th>x3</th>\n",
       "      <th>x4</th>\n",
       "      <th>x5</th>\n",
       "      <th>x6</th>\n",
       "      <th>x7</th>\n",
       "      <th>x8</th>\n",
       "      <th>x9</th>\n",
       "      <th>x10</th>\n",
       "    </tr>\n",
       "  </thead>\n",
       "  <tbody>\n",
       "    <tr>\n",
       "      <th>0</th>\n",
       "      <td>0</td>\n",
       "      <td>1.307944</td>\n",
       "      <td>-0.562787</td>\n",
       "      <td>1.039630</td>\n",
       "      <td>-2.908865</td>\n",
       "      <td>-2.115263</td>\n",
       "      <td>2.694800</td>\n",
       "      <td>-0.331587</td>\n",
       "      <td>0.815707</td>\n",
       "      <td>-0.324382</td>\n",
       "      <td>0.364599</td>\n",
       "    </tr>\n",
       "    <tr>\n",
       "      <th>1</th>\n",
       "      <td>0</td>\n",
       "      <td>0.910389</td>\n",
       "      <td>-0.277683</td>\n",
       "      <td>-0.670094</td>\n",
       "      <td>-0.922280</td>\n",
       "      <td>-0.315424</td>\n",
       "      <td>-1.488813</td>\n",
       "      <td>-0.067852</td>\n",
       "      <td>-0.347947</td>\n",
       "      <td>1.367260</td>\n",
       "      <td>0.623631</td>\n",
       "    </tr>\n",
       "    <tr>\n",
       "      <th>2</th>\n",
       "      <td>0</td>\n",
       "      <td>-1.340762</td>\n",
       "      <td>-0.918522</td>\n",
       "      <td>0.062053</td>\n",
       "      <td>1.049362</td>\n",
       "      <td>-1.540873</td>\n",
       "      <td>-0.372487</td>\n",
       "      <td>2.011240</td>\n",
       "      <td>1.394341</td>\n",
       "      <td>-1.092356</td>\n",
       "      <td>-0.256107</td>\n",
       "    </tr>\n",
       "    <tr>\n",
       "      <th>3</th>\n",
       "      <td>0</td>\n",
       "      <td>-0.342582</td>\n",
       "      <td>0.969356</td>\n",
       "      <td>0.626722</td>\n",
       "      <td>0.138985</td>\n",
       "      <td>-1.008952</td>\n",
       "      <td>-0.867862</td>\n",
       "      <td>0.305326</td>\n",
       "      <td>0.616450</td>\n",
       "      <td>0.248013</td>\n",
       "      <td>-0.001253</td>\n",
       "    </tr>\n",
       "    <tr>\n",
       "      <th>4</th>\n",
       "      <td>0</td>\n",
       "      <td>-0.926935</td>\n",
       "      <td>-1.722320</td>\n",
       "      <td>-2.290512</td>\n",
       "      <td>0.511226</td>\n",
       "      <td>-0.386015</td>\n",
       "      <td>-1.395568</td>\n",
       "      <td>-1.054296</td>\n",
       "      <td>0.239869</td>\n",
       "      <td>1.349215</td>\n",
       "      <td>-1.313154</td>\n",
       "    </tr>\n",
       "  </tbody>\n",
       "</table>\n",
       "</div>"
      ],
      "text/plain": [
       "   converted        x1        x2        x3        x4        x5        x6  \\\n",
       "0          0  1.307944 -0.562787  1.039630 -2.908865 -2.115263  2.694800   \n",
       "1          0  0.910389 -0.277683 -0.670094 -0.922280 -0.315424 -1.488813   \n",
       "2          0 -1.340762 -0.918522  0.062053  1.049362 -1.540873 -0.372487   \n",
       "3          0 -0.342582  0.969356  0.626722  0.138985 -1.008952 -0.867862   \n",
       "4          0 -0.926935 -1.722320 -2.290512  0.511226 -0.386015 -1.395568   \n",
       "\n",
       "         x7        x8        x9       x10  \n",
       "0 -0.331587  0.815707 -0.324382  0.364599  \n",
       "1 -0.067852 -0.347947  1.367260  0.623631  \n",
       "2  2.011240  1.394341 -1.092356 -0.256107  \n",
       "3  0.305326  0.616450  0.248013 -0.001253  \n",
       "4 -1.054296  0.239869  1.349215 -1.313154  "
      ]
     },
     "execution_count": 14,
     "metadata": {},
     "output_type": "execute_result"
    }
   ],
   "source": [
    "data2 = df.drop(columns = ['email', 'user_id'])\n",
    "data2.head()"
   ]
  },
  {
   "cell_type": "code",
   "execution_count": 15,
   "metadata": {},
   "outputs": [
    {
     "data": {
      "image/png": "[encoded data removed]",
      "text/plain": [
       "<Figure size 720x720 with 2 Axes>"
      ]
     },
     "metadata": {},
     "output_type": "display_data"
    }
   ],
   "source": [
    "#correlations between features and label\n",
    "\n",
    "import seaborn as sns\n",
    "import numpy as np\n",
    "\n",
    "cols = ['converted','x1','x2','x3','x4','x5','x6','x7','x8','x9','x10']\n",
    "\n",
    "plt.rcParams['figure.figsize'] = (10, 10)\n",
    "\n",
    "cm = np.corrcoef(data2.values.T)\n",
    "sns.set(font_scale=1.5)\n",
    "hm = sns.heatmap(cm,\n",
    "                cbar=True,\n",
    "                annot=True,\n",
    "                square=True,\n",
    "                fmt='.2f',\n",
    "                annot_kws={'size':15},\n",
    "                yticklabels = cols,\n",
    "                xticklabels = cols)\n",
    "plt.show()"
   ]
  },
  {
   "cell_type": "code",
   "execution_count": 16,
   "metadata": {},
   "outputs": [
    {
     "data": {
      "text/plain": [
       "[(4, 0.4283772524257131),\n",
       " (7, 0.23898478660229866),\n",
       " (3, 0.2363380249426726),\n",
       " (5, 0.2192983329414267),\n",
       " (0, 0.055150791916894704),\n",
       " (2, 0.04497423595154312),\n",
       " (1, 0.020487791244289708),\n",
       " (9, 0.01361736390545834),\n",
       " (6, 0.01137523935014729),\n",
       " (8, 0.007815613284655647)]"
      ]
     },
     "execution_count": 16,
     "metadata": {},
     "output_type": "execute_result"
    }
   ],
   "source": [
    "correlations = []\n",
    "for label,value in enumerate(cm[0][1:]):\n",
    "    correlations.append((label,abs(value)))\n",
    "\n",
    "correlations.sort(key = lambda x:x[1], reverse = True)\n",
    "correlations\n"
   ]
  },
  {
   "cell_type": "markdown",
   "metadata": {},
   "source": [
    "### Answer\n",
    "\n",
    "As we can see, the label X4 has the closest correlation with the label Converted\n",
    "\n",
    "There are 4 features having close correlations with the label Converted: X4, X7, X3, X5"
   ]
  }
 ],
 "metadata": {
  "kernelspec": {
   "display_name": "Python 3",
   "language": "python",
   "name": "python3"
  },
  "language_info": {
   "codemirror_mode": {
    "name": "ipython",
    "version": 3
   },
   "file_extension": ".py",
   "mimetype": "text/x-python",
   "name": "python",
   "nbconvert_exporter": "python",
   "pygments_lexer": "ipython3",
   "version": "3.7.3"
  }
 },
 "nbformat": 4,
 "nbformat_minor": 4
}
